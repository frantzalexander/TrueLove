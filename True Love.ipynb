{
 "cells": [
  {
   "cell_type": "markdown",
   "id": "41d22565-8f85-4d5a-99f1-7976defd280e",
   "metadata": {
    "tags": []
   },
   "source": [
    "# <en><center>True Love</center></en>"
   ]
  },
  {
   "cell_type": "markdown",
   "id": "909b95ae-e7bc-42ba-b920-d629057256f8",
   "metadata": {},
   "source": [
    "> The true love game matches the names of two star crossed lovers and gives a score.  \n",
    "> The score measures how well the names are compatible. \n",
    "> * If the score of the pair is less than 10 or greater than 90, they go together like coke and mentos. 🍾\n",
    "> * Should the score be between 40 and 50, the pair goes well together. 💞\n",
    "> * For all other scores the lovers compatibility would be given.💘"
   ]
  },
  {
   "cell_type": "code",
   "execution_count": null,
   "id": "99ae7415-0adf-4962-a404-db6b5b12bb52",
   "metadata": {},
   "outputs": [],
   "source": [
    "name1 = input(\"What is your name? \\n\")\n",
    "name2 = input(\"What is their name? \\n\")\n",
    "\n",
    "name1_lower_case = name1.lower()\n",
    "name2_lower_case = name2.lower()\n",
    "\n",
    "names_total = name1_lower_case + name2_lower_case\n",
    "\n",
    "t_count = 0\n",
    "r_count = 0\n",
    "u_count = 0\n",
    "e_count = 0\n",
    "\n",
    "l_count = 0\n",
    "o_count = 0\n",
    "v_count = 0\n",
    "e_count = 0\n",
    "\n",
    "t_count += names_total.count(\"t\")\n",
    "r_count += names_total.count(\"r\")\n",
    "u_count += names_total.count(\"u\")\n",
    "e_count += names_total.count(\"e\")\n",
    "\n",
    "l_count += names_total.count(\"l\")\n",
    "o_count += names_total.count(\"o\")\n",
    "v_count += names_total.count(\"v\")\n",
    "    \n",
    "true_count = t_count + r_count + u_count + e_count\n",
    "love_count = l_count + o_count + v_count + e_count\n",
    "\n",
    "score_string = str(true_count) + str(love_count)\n",
    "\n",
    "score = int(score_string)\n",
    "\n",
    "if (score < 10) or (score > 90):\n",
    "    print(\"Your score is {}, you go together like coke and mentos.🍾\".format(score))\n",
    "\n",
    "elif (score >= 40) and (score <= 50):\n",
    "    print(\"Your score is {}, you are alright together.💞\".format(score))\n",
    "\n",
    "else:\n",
    "    print(f\"Your score is {score}.💘\")"
   ]
  },
  {
   "cell_type": "markdown",
   "id": "6a24aa95-1021-4b48-a208-90e465cedfa7",
   "metadata": {},
   "source": [
    "---"
   ]
  }
 ],
 "metadata": {
  "kernelspec": {
   "display_name": "Python 3 (ipykernel)",
   "language": "python",
   "name": "python3"
  },
  "language_info": {
   "codemirror_mode": {
    "name": "ipython",
    "version": 3
   },
   "file_extension": ".py",
   "mimetype": "text/x-python",
   "name": "python",
   "nbconvert_exporter": "python",
   "pygments_lexer": "ipython3",
   "version": "3.10.10"
  }
 },
 "nbformat": 4,
 "nbformat_minor": 5
}
